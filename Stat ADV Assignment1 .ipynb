{
 "cells": [
  {
   "cell_type": "code",
   "execution_count": 1,
   "id": "1935bd9b-e6d0-4913-8f2a-ea5fee5cde49",
   "metadata": {},
   "outputs": [],
   "source": [
    "# Q1. What is the Probability density function?\n"
   ]
  },
  {
   "cell_type": "code",
   "execution_count": null,
   "id": "943d40db-aea9-4456-bcd9-eca91f225dde",
   "metadata": {},
   "outputs": [],
   "source": [
    "#The probability density function (PDF) is a function that describes the likelihood of a random variable taking on a specific value within a given range,\n",
    "#indicating the relative frequency of occurrence for different values."
   ]
  },
  {
   "cell_type": "code",
   "execution_count": 2,
   "id": "f0b9cce1-f96b-40ee-a3a7-8746803c6f0c",
   "metadata": {},
   "outputs": [],
   "source": [
    "# Q2. What are the types of Probability distribution?"
   ]
  },
  {
   "cell_type": "code",
   "execution_count": 3,
   "id": "802cdd36-a5c1-4406-aed1-6e33df5b7e0e",
   "metadata": {},
   "outputs": [],
   "source": [
    "# There are several types of probability distributions, including the\n",
    "#normal distribution (Gaussian), binomial distribution, uniform distribution, Poisson distribution, Log Normal distribution , Bionomial Distribution.  \n",
    "#each with its own characteristics and applications in probability theory and statistics."
   ]
  },
  {
   "cell_type": "code",
   "execution_count": null,
   "id": "c19717e4-c4c6-4976-b552-3895a6c63e49",
   "metadata": {},
   "outputs": [],
   "source": [
    "#Q3. Write a Python function to calculate the probability density function of a normal distribution with given mean and standard deviation at a given point."
   ]
  },
  {
   "cell_type": "code",
   "execution_count": 4,
   "id": "0ff435c6-2a51-4ab4-8db3-30ef84508217",
   "metadata": {},
   "outputs": [],
   "source": [
    "from scipy.stats import norm\n",
    "\n",
    "def pdf_normal_distribution(mean, std_deviation, point):\n",
    "    return norm.pdf(point, mean, std_deviation)"
   ]
  },
  {
   "cell_type": "code",
   "execution_count": 6,
   "id": "7d30efc6-ec73-4825-8f31-1500bcdc0209",
   "metadata": {},
   "outputs": [
    {
     "name": "stdout",
     "output_type": "stream",
     "text": [
      "The PDF of the normal distribution at point 1.5 is: 4.801160785906882e-121\n"
     ]
    }
   ],
   "source": [
    "# Example usage\n",
    "mean = 25\n",
    "std_deviation = 1\n",
    "point = 1.5\n",
    "\n",
    "pdf = pdf_normal_distribution(mean, std_deviation, point)\n",
    "print(f\"The PDF of the normal distribution at point {point} is: {pdf}\")"
   ]
  },
  {
   "cell_type": "code",
   "execution_count": null,
   "id": "933acfe5-2460-4e0b-8396-383d7f545af3",
   "metadata": {},
   "outputs": [],
   "source": [
    "# Q4. What are the properties of Binomial distribution? Give two examples of events where binomial distribution can be applied."
   ]
  },
  {
   "cell_type": "code",
   "execution_count": null,
   "id": "4880481f-9d3c-43e8-a273-aa39a3a4a181",
   "metadata": {},
   "outputs": [],
   "source": [
    "# The properties of the binomial distribution are:\n",
    "\n",
    "\"Every experipmet outcome is binary.\n",
    "Discrete random variable\n",
    "The experiment is performed n number of times.\n",
    "The probability of success or failure remains the same for each trial.\n",
    "\n",
    "Two examples of events where binomial distribution can be applied are:\n",
    "\n",
    "Tossing a coin where we can get either heads or tails.\n",
    "Rolling a die where we can get either 1, 2, 3, 4, 5 or 6 \""
   ]
  },
  {
   "cell_type": "code",
   "execution_count": null,
   "id": "5bd98235-c690-47aa-9d8c-8c7b0e717e6b",
   "metadata": {},
   "outputs": [],
   "source": [
    "# Q5. Generate a random sample of size 1000 from a binomial distribution with probability of success 0.4\n",
    "and plot a histogram of the results using matplotlib."
   ]
  },
  {
   "cell_type": "code",
   "execution_count": 7,
   "id": "a4fb6903-530a-44f0-b197-e36e281e04ee",
   "metadata": {},
   "outputs": [
    {
     "data": {
      "image/png": "[encoded data removed]",
      "text/plain": [
       "<Figure size 640x480 with 1 Axes>"
      ]
     },
     "metadata": {},
     "output_type": "display_data"
    }
   ],
   "source": [
    "import numpy as np\n",
    "import matplotlib.pyplot as plt\n",
    "\n",
    "# Generate random sample from binomial distribution\n",
    "sample_size = 1000\n",
    "probability = 0.4\n",
    "sample = np.random.binomial(1, probability, sample_size)\n",
    "\n",
    "# Plot histogram\n",
    "plt.hist(sample, bins=2, edgecolor='black')\n",
    "plt.xlabel('Outcome')\n",
    "plt.ylabel('Frequency')\n",
    "plt.title('Histogram of Random Sample from Binomial Distribution')\n",
    "plt.xticks([0, 1], ['Failure', 'Success'])\n",
    "plt.show()"
   ]
  },
  {
   "cell_type": "code",
   "execution_count": null,
   "id": "604b5a6f-e847-4607-ae45-6b1b3686517a",
   "metadata": {},
   "outputs": [],
   "source": [
    "# Q6. Write a Python function to calculate the cumulative distribution function of a Poisson distribution with given mean at a given point. "
   ]
  },
  {
   "cell_type": "code",
   "execution_count": 10,
   "id": "d3aea467-b4dd-4235-859b-e2c000272935",
   "metadata": {},
   "outputs": [],
   "source": [
    "from scipy.stats import poisson\n",
    "\n",
    "def calculate_poisson_cdf(point, mean):\n",
    "    return poisson.cdf(point, mean)"
   ]
  },
  {
   "cell_type": "code",
   "execution_count": 9,
   "id": "ffb44c4b-3206-4226-abf2-b58ed987c643",
   "metadata": {},
   "outputs": [
    {
     "name": "stdout",
     "output_type": "stream",
     "text": [
      "The CDF of the Poisson distribution at point 2 with mean 3.5 is: 0.32084719886213414\n"
     ]
    }
   ],
   "source": [
    "# Example usage\n",
    "mean = 4\n",
    "point = 2\n",
    "\n",
    "cdf = calculate_poisson_cdf(point, mean)\n",
    "print(f\"The CDF of the Poisson distribution at point {point} with mean {mean} is: {cdf}\")"
   ]
  },
  {
   "cell_type": "code",
   "execution_count": null,
   "id": "a206a5ec-ad1e-4439-8da0-fe0dc0ff60ee",
   "metadata": {},
   "outputs": [],
   "source": [
    "# Q7. How Binomial distribution different from Poisson distribution?"
   ]
  },
  {
   "cell_type": "code",
   "execution_count": null,
   "id": "30cc6feb-b0c3-4f21-8356-489332d60fbd",
   "metadata": {},
   "outputs": [],
   "source": [
    "# The Binomial distribution models the number of successes in a fixed number of independent trials with a constant probability,\n",
    "#while the Poisson distribution models the number of events occurring in a fixed interval of time or space, assuming a constant rate of occurrence and events\n",
    "#being independent of each other."
   ]
  },
  {
   "cell_type": "code",
   "execution_count": null,
   "id": "2a4631dd-8bd9-49e2-bb65-224cf827735f",
   "metadata": {},
   "outputs": [],
   "source": [
    "#Q8. Generate a random sample of size 1000 from a Poisson distribution with mean 5 and calculate the\n",
    "# sample mean and variance."
   ]
  },
  {
   "cell_type": "code",
   "execution_count": 13,
   "id": "0244575b-d4ca-4835-bf1c-8f023c24d869",
   "metadata": {},
   "outputs": [
    {
     "name": "stdout",
     "output_type": "stream",
     "text": [
      "Sample Mean: 4.944\n",
      "Sample Variance: 4.661525525525526\n"
     ]
    }
   ],
   "source": [
    "import numpy as np\n",
    "\n",
    "# Parameters\n",
    "sample_size = 1000\n",
    "mean = 5\n",
    "\n",
    "# Generate random sample from Poisson distribution\n",
    "sample = np.random.poisson(mean, sample_size)\n",
    "\n",
    "# Calculate sample mean and variance\n",
    "sample_mean = np.mean(sample)\n",
    "sample_variance = np.var(sample, ddof=1)\n",
    "\n",
    "print(f\"Sample Mean: {sample_mean}\")\n",
    "print(f\"Sample Variance: {sample_variance}\")"
   ]
  },
  {
   "cell_type": "code",
   "execution_count": null,
   "id": "e51f2c81-dc35-4967-a0fc-057b1574cf0e",
   "metadata": {},
   "outputs": [],
   "source": [
    "# Q9. How mean and variance are related in Binomial distribution and Poisson distribution?"
   ]
  },
  {
   "cell_type": "code",
   "execution_count": 14,
   "id": "5fe449e3-26dc-4443-b174-87bc95ff1bde",
   "metadata": {},
   "outputs": [],
   "source": [
    "# In a Binomial distribution, the mean (μ) is equal to the product of the number of trials (n) and the probability of success (p), and the variance (σ^2) is equal\n",
    "#to n times p times (1-p). In a Poisson distribution, both the mean (λ) and variance (σ^2) are equal and are given by λ, which represents the rate or average number of events\n",
    "#occurring in a fixed interval."
   ]
  },
  {
   "cell_type": "code",
   "execution_count": null,
   "id": "19d8333e-9bff-4b6b-962c-6b386f23d6f9",
   "metadata": {},
   "outputs": [],
   "source": [
    "# Q10. In normal distribution with respect to mean position, where does the least frequent data appear?"
   ]
  },
  {
   "cell_type": "code",
   "execution_count": null,
   "id": "7772792e-faeb-4fa7-afdd-7740bdd2f450",
   "metadata": {},
   "outputs": [],
   "source": [
    "# In a normal distribution, the least frequent data points appear farthest away from the mean position."
   ]
  }
 ],
 "metadata": {
  "kernelspec": {
   "display_name": "Python 3 (ipykernel)",
   "language": "python",
   "name": "python3"
  },
  "language_info": {
   "codemirror_mode": {
    "name": "ipython",
    "version": 3
   },
   "file_extension": ".py",
   "mimetype": "text/x-python",
   "name": "python",
   "nbconvert_exporter": "python",
   "pygments_lexer": "ipython3",
   "version": "3.10.8"
  }
 },
 "nbformat": 4,
 "nbformat_minor": 5
}
